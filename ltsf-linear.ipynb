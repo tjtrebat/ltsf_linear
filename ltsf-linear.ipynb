{
 "cells": [
  {
   "cell_type": "markdown",
   "id": "6b83e78c-9c15-4742-a4f1-03e1447032bd",
   "metadata": {},
   "source": [
    "# LTSF-Linear"
   ]
  },
  {
   "cell_type": "markdown",
   "id": "6f46fae9-032a-4a0c-9f2c-c7f4bee81a83",
   "metadata": {},
   "source": [
    "### Import Libraries"
   ]
  },
  {
   "cell_type": "code",
   "execution_count": 1,
   "id": "0bca25b8-2631-481a-aeb0-ae3e532eebf8",
   "metadata": {},
   "outputs": [],
   "source": [
    "import warnings\n",
    "\n",
    "import torch\n",
    "import torch.nn as nn\n",
    "import pandas as pd\n",
    "import seaborn as sns\n",
    "from torch.utils.data import Dataset\n",
    "from torch.utils.data import DataLoader\n",
    "from sklearn.preprocessing import StandardScaler\n",
    "\n",
    "device = 'cuda' if torch.cuda.is_available() else 'cpu'\n",
    "warnings.filterwarnings('ignore')"
   ]
  },
  {
   "cell_type": "markdown",
   "id": "7ad9320c-065d-4366-b580-1481e24ccd35",
   "metadata": {},
   "source": [
    "### Linear Model\n",
    "\n",
    "In the following cell, we create our LinearLTSF module, necessary for performing our Long-Term Time Series Forecasting project. The module accepts positional arguments for the sequence length, used to determine the number of entries in the past utilized for forecasting the future energy usage of appliances, as well as the prediction length, which determines the forecasting horizon. Additionally, the keyword argument allows us to specify the number of input channels in the dataset that allows us to base the prediction on the entries that apply to certain features (i.e. appliances) in the dataset. The number of channels specified ultimately controls the number of parameters provided by the model in the different Linear layers used for handling each different form of input separately."
   ]
  },
  {
   "cell_type": "code",
   "execution_count": 2,
   "id": "9a039a4a-6d81-44ad-b5ca-5a84548a4e6a",
   "metadata": {},
   "outputs": [],
   "source": [
    "class LinearLTSF(nn.Module):\n",
    "    def __init__(self, sequence_length, prediction_length, in_channels=2):\n",
    "        super(LinearLTSF, self).__init__()\n",
    "        self.sequence_length = sequence_length\n",
    "        self.prediction_length = prediction_length\n",
    "        self.linears = nn.ModuleList([\n",
    "            nn.Linear(sequence_length, prediction_length)\n",
    "            for _ in range(in_channels)\n",
    "        ])\n",
    "\n",
    "    def forward(self, x):\n",
    "        out = torch.tensor([], dtype=x.dtype, device=x.device)\n",
    "        for channel, linear in enumerate(self.linears):\n",
    "            channel_out = linear(x[:, :, channel]).unsqueeze(-1)\n",
    "            out = torch.cat([out, channel_out], dim=-1)\n",
    "        return out"
   ]
  },
  {
   "cell_type": "markdown",
   "id": "eda9af6d-35c2-4620-ab22-581fec2ed6c2",
   "metadata": {},
   "source": [
    "## Dataset\n",
    "\n",
    "In the following cell, we create our ApplianceEnergyUsageDataset (https://archive.ics.uci.edu/dataset/374/appliances+energy+prediction) class for forecasting the energy usage of lights and appliances in our Linear module we defined above. In addition, we also include the utility functions, get_train_dataset and get_test_dataset, used for obtaining the separate training and testing datasets for use by our Linear model. We split the dataset by reserving the first 80% of the samples for training our model, and use the remaining 20% for the model testing. As per discussed in the literature, normalization is applied for scaling the test data by the mean and variance of the training data to help improve model performance."
   ]
  },
  {
   "cell_type": "code",
   "execution_count": 3,
   "id": "724794f6-6ecf-47e0-a1fd-6ca9e01cd4ca",
   "metadata": {},
   "outputs": [],
   "source": [
    "class ApplianceEnergyUsageDataset(Dataset):\n",
    "    def __init__(self, energy_data, sequence_length, prediction_length):\n",
    "        super().__init__()\n",
    "        self.energy_data = energy_data\n",
    "        self.sequence_length = sequence_length\n",
    "        self.prediction_length = prediction_length        \n",
    "\n",
    "    def __getitem__(self, index):\n",
    "        sequence_begin = index\n",
    "        sequence_end = sequence_begin + self.sequence_length\n",
    "        x = self.energy_data[sequence_begin:sequence_end]\n",
    "        prediction_begin = sequence_end\n",
    "        prediction_end = prediction_begin + self.prediction_length\n",
    "        y = self.energy_data[prediction_begin:prediction_end]\n",
    "        return x, y\n",
    "\n",
    "    def __len__(self):\n",
    "        return len(self.energy_data) - self.sequence_length - self.prediction_length + 1\n",
    "\n",
    "\n",
    "energy_data_file = '../../datasets/appliances_energy_prediction/energydata_complete.csv'\n",
    "energy_data = pd.read_csv(energy_data_file, usecols=[1, 2])\n",
    "training_samples = int(len(energy_data) * 0.8)\n",
    "scaler = StandardScaler()\n",
    "train_data = scaler.fit_transform(energy_data.iloc[:training_samples].values)\n",
    "\n",
    "def get_train_dataset(sequence_length, prediction_length):\n",
    "    dataset = ApplianceEnergyUsageDataset(train_data, \n",
    "                                          sequence_length, \n",
    "                                          prediction_length)\n",
    "    return dataset\n",
    "\n",
    "def get_test_dataset(sequence_length, prediction_length):\n",
    "    test_data = scaler.transform(energy_data.iloc[\n",
    "        training_samples - sequence_length:].values)\n",
    "    dataset = ApplianceEnergyUsageDataset(test_data,\n",
    "                                          sequence_length,\n",
    "                                          prediction_length)\n",
    "    return dataset"
   ]
  },
  {
   "cell_type": "markdown",
   "id": "d960182f-d649-4ade-a5dc-c7681ace5c1c",
   "metadata": {},
   "source": [
    "## Model Training/Evaluation\n",
    "\n",
    "In the following cells, we obtain the statistics related to model loss (in terms of MSE between target and predicted values) on the test dataset for varying values of the sequence length and prediction horizon. We set the look-back window size as {24, 48, 72, 96, 120, 144, 168, 192, 336, 504, 672, 720} and forecasting steps as {24, 720}."
   ]
  },
  {
   "cell_type": "markdown",
   "id": "6de5b55f-ab86-4c02-945f-31d65b52a23e",
   "metadata": {},
   "source": [
    "We define the train and test functions below for training and testing our model, respectively:"
   ]
  },
  {
   "cell_type": "code",
   "execution_count": 4,
   "id": "ee49d5f6-9635-4a6d-94b0-13ddf95287b4",
   "metadata": {},
   "outputs": [],
   "source": [
    "def train(dataloader, model, criterion, optimizer):\n",
    "    model.train()\n",
    "    for X, y in dataloader:\n",
    "        X, y = [_.to(torch.float32).to(device) for _ in (X, y,)]\n",
    "        pred = model(X)\n",
    "        loss = criterion(pred, y)\n",
    "        loss.backward()\n",
    "        optimizer.step()\n",
    "        optimizer.zero_grad()\n",
    "\n",
    "def test(dataloader, model, criterion):\n",
    "    num_batches = len(dataloader)\n",
    "    model.eval()\n",
    "    test_loss = 0\n",
    "    with torch.no_grad():\n",
    "        for X, y in dataloader:\n",
    "            X, y = [_.to(torch.float32).to(device) for _ in (X, y,)]\n",
    "            pred = model(X)\n",
    "            test_loss += criterion(pred, y).item()\n",
    "    test_loss /= num_batches\n",
    "    return test_loss"
   ]
  },
  {
   "cell_type": "markdown",
   "id": "92621144-bddc-4f58-a0e3-139a59208bd4",
   "metadata": {},
   "source": [
    "Next, we iterate through the possible combinations of forecasting steps and look-back window sizes to find the optimal value that minimizes the model's loss on the test set. Generally speaking, larger look-back window sizes should correspond to more accurate forecasting predictions, but we also want to verify the results empirically to determine which values work best for our dataset. We store the values for the model loss on the test dataset, as well as the parameters for the sequence length and prediction length used, for visualizing the results in seaborn.FacetGrid below."
   ]
  },
  {
   "cell_type": "code",
   "execution_count": 5,
   "id": "9c7907a4-1d1e-4808-a1ef-d91d2e4b2c6f",
   "metadata": {},
   "outputs": [
    {
     "name": "stdout",
     "output_type": "stream",
     "text": [
      "{'Prediction Length': [24, 24, 24, 24, 24, 24, 24, 24, 24, 24, 24, 24, 720, 720, 720, 720, 720, 720, 720, 720, 720, 720, 720, 720], 'Sequence Length': [24, 48, 72, 96, 120, 144, 168, 192, 336, 504, 672, 720, 24, 48, 72, 96, 120, 144, 168, 192, 336, 504, 672, 720], 'Avg Loss': [0.515270234836686, 0.507536493241787, 0.5060067262140012, 0.5054756366918164, 0.504759832255302, 0.4908602360275484, 0.48849634369534833, 0.4892824097506462, 0.49501712283780497, 0.48963173394722326, 0.49399427877318475, 0.4936797459639849, 0.560824451493282, 0.5540412915687934, 0.5489749511082967, 0.5449485252885258, 0.5413150068591622, 0.5386035559224147, 0.537113571283864, 0.5357939665224037, 0.5263007557859608, 0.521931404576582, 0.5222858698929057, 0.5240007264941346]}\n"
     ]
    }
   ],
   "source": [
    "FORECASTING_STEPS = [24, 720]\n",
    "LOOKBACK_WINDOW_SIZES = [24, 48, 72, 96, 120, 144, 168, 192, 336, 504, 672, 720]\n",
    "\n",
    "loss_data = {'Prediction Length': [], 'Sequence Length': [], 'Avg Loss': []}\n",
    "\n",
    "for pred_length in FORECASTING_STEPS:\n",
    "    for seq_length in LOOKBACK_WINDOW_SIZES:\n",
    "        train_dataset = get_train_dataset(seq_length, pred_length)\n",
    "        test_dataset = get_test_dataset(seq_length, pred_length)\n",
    "        train_dataloader = DataLoader(train_dataset, batch_size=64)\n",
    "        test_dataloader = DataLoader(test_dataset, batch_size=64)\n",
    "        model = LinearLTSF(seq_length, pred_length).to(device)\n",
    "        criterion = nn.MSELoss()\n",
    "        optimizer = torch.optim.Adam(model.parameters(), lr=0.001)\n",
    "        epochs = 10\n",
    "        for epoch in range(epochs):\n",
    "            train(train_dataloader, model, criterion, optimizer)\n",
    "        test_loss = test(test_dataloader, model, criterion)\n",
    "        loss_data['Avg Loss'].append(test_loss)\n",
    "        loss_data['Prediction Length'].append(pred_length)\n",
    "        loss_data['Sequence Length'].append(seq_length)\n",
    "\n",
    "print(loss_data)"
   ]
  },
  {
   "cell_type": "markdown",
   "id": "5ed67f6b-c271-4f76-9a74-afb5079e26cd",
   "metadata": {},
   "source": [
    "## Visualize Results\n",
    "\n",
    "In the following cell output, we visualize model loss for each of the values used for sequence length and prediction horizon used to train the model and obtain the results. The model loss is determined in MSE between target and predicted values for each of the appliances in the test dataset."
   ]
  },
  {
   "cell_type": "code",
   "execution_count": 6,
   "id": "03577d9e-7375-44a5-b93d-43d0dfe6f1c2",
   "metadata": {},
   "outputs": [
    {
     "data": {
      "text/plain": [
       "<seaborn.axisgrid.FacetGrid at 0x774e712f1090>"
      ]
     },
     "execution_count": 6,
     "metadata": {},
     "output_type": "execute_result"
    },
    {
     "data": {
      "image/png": "[encoded data removed]",
      "text/plain": [
       "<Figure size 600x300 with 2 Axes>"
      ]
     },
     "metadata": {},
     "output_type": "display_data"
    }
   ],
   "source": [
    "df_losses = pd.DataFrame(loss_data)\n",
    "g = sns.FacetGrid(df_losses, col='Prediction Length')\n",
    "g.map(sns.lineplot, 'Sequence Length', 'Avg Loss')"
   ]
  },
  {
   "cell_type": "markdown",
   "id": "464183af-c105-4b95-a256-0d1e25d667b7",
   "metadata": {},
   "source": [
    "Based on the outputs from the previous cell, we can confirm that higher values for the sequence length corresponds to better performing models and improve predictions of energy usage for each of the appliance for the respective prediction horizons. The effect of increasing the look-back window size seems to be somewhat less pronounced for the shorter prediction horizon of 24 (4 hours). Incorporating more historical data for the energy usage of the appliances seems to be more beneficial for the much larger prediction horizon of 720 (120 hours). This seems to match well with the reasoning of appliance energy usage tending to exhibit distinct patterns or characteristics that can only be captured by considering the values spanning a much longer duration of time, such as the number of days in a week."
   ]
  },
  {
   "cell_type": "markdown",
   "id": "c63bfc78-9c9b-46a8-9cbc-95d6d1c514bb",
   "metadata": {},
   "source": [
    "### NLinear/DLinear Model Definition\n",
    "\n",
    "In the following experiment, we seek to improve model performance further by resolving issues related to a potential distribution shift between the training and testing data. We create two additional models in NLinearLTSF and DLinearLTSF analogous to the NLinear and DLinear models of the paper. For our NLinear model, we use subtraction and addition to shift the model prediction towards the distribution of true value, thereby avoiding the accumulation of large errors and improving the model performance. For the DLinear model, we first decompose the raw input data into a trend component by a moving average kernel and a remainder (seasonal) component, then apply two linear layers to each component and sum the feature vectors together to obtain a final prediction. We believe that by explicitly handling trend in DLinear model, that we will be able to improve upon our vanilla Linear model by explicitly capturing patterns related to long-term trends or seasonality of the appliance energy usage."
   ]
  }
 ],
 "metadata": {
  "kernelspec": {
   "display_name": "Python 3 (ipykernel)",
   "language": "python",
   "name": "python3"
  },
  "language_info": {
   "codemirror_mode": {
    "name": "ipython",
    "version": 3
   },
   "file_extension": ".py",
   "mimetype": "text/x-python",
   "name": "python",
   "nbconvert_exporter": "python",
   "pygments_lexer": "ipython3",
   "version": "3.11.7"
  }
 },
 "nbformat": 4,
 "nbformat_minor": 5
}
